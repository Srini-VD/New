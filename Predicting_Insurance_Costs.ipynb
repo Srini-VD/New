{
 "cells": [
  {
   "cell_type": "markdown",
   "id": "f0984f65",
   "metadata": {},
   "source": [
    "## 1.Loading the Required Libraries"
   ]
  },
  {
   "cell_type": "code",
   "execution_count": 257,
   "id": "44385e7c",
   "metadata": {},
   "outputs": [],
   "source": [
    "import numpy as np\n",
    "import pandas as pd\n",
    "import matplotlib.pyplot as plt\n",
    "import seaborn as sns"
   ]
  },
  {
   "cell_type": "code",
   "execution_count": 258,
   "id": "1b4ab0fe",
   "metadata": {},
   "outputs": [],
   "source": [
    "from sklearn.model_selection import train_test_split,GridSearchCV\n",
    "from sklearn.linear_model import LinearRegression,SGDRegressor\n",
    "from sklearn.tree import DecisionTreeRegressor\n",
    "from sklearn.ensemble import RandomForestRegressor,GradientBoostingRegressor,AdaBoostRegressor\n",
    "from xgboost import XGBRegressor\n",
    "from sklearn.svm import SVR\n",
    "from lightgbm import LGBMRegressor\n",
    "from sklearn.neighbors import KNeighborsRegressor"
   ]
  },
  {
   "cell_type": "code",
   "execution_count": 259,
   "id": "23d2a6f7",
   "metadata": {},
   "outputs": [],
   "source": [
    "from sklearn.preprocessing import StandardScaler\n",
    "from sklearn.metrics import mean_squared_error,r2_score"
   ]
  },
  {
   "cell_type": "code",
   "execution_count": 260,
   "id": "0f588546",
   "metadata": {},
   "outputs": [],
   "source": [
    "from warnings import filterwarnings\n",
    "filterwarnings('ignore')"
   ]
  },
  {
   "cell_type": "markdown",
   "id": "586d917d",
   "metadata": {},
   "source": [
    "## 2.Loading the Dataset"
   ]
  },
  {
   "cell_type": "code",
   "execution_count": 261,
   "id": "78e2d5dd",
   "metadata": {},
   "outputs": [],
   "source": [
    "df_insurance=pd.read_csv('C:/Users/Sushree Jena/Desktop/imarticus/machine learning/Kaggle/insurance/insurance.csv')"
   ]
  },
  {
   "cell_type": "code",
   "execution_count": 262,
   "id": "95dab671",
   "metadata": {},
   "outputs": [
    {
     "data": {
      "text/plain": [
       "(1338, 7)"
      ]
     },
     "execution_count": 262,
     "metadata": {},
     "output_type": "execute_result"
    }
   ],
   "source": [
    "df_insurance.shape"
   ]
  },
  {
   "cell_type": "code",
   "execution_count": 263,
   "id": "019687e0",
   "metadata": {},
   "outputs": [
    {
     "data": {
      "text/html": [
       "<div>\n",
       "<style scoped>\n",
       "    .dataframe tbody tr th:only-of-type {\n",
       "        vertical-align: middle;\n",
       "    }\n",
       "\n",
       "    .dataframe tbody tr th {\n",
       "        vertical-align: top;\n",
       "    }\n",
       "\n",
       "    .dataframe thead th {\n",
       "        text-align: right;\n",
       "    }\n",
       "</style>\n",
       "<table border=\"1\" class=\"dataframe\">\n",
       "  <thead>\n",
       "    <tr style=\"text-align: right;\">\n",
       "      <th></th>\n",
       "      <th>age</th>\n",
       "      <th>sex</th>\n",
       "      <th>bmi</th>\n",
       "      <th>children</th>\n",
       "      <th>smoker</th>\n",
       "      <th>region</th>\n",
       "      <th>charges</th>\n",
       "    </tr>\n",
       "  </thead>\n",
       "  <tbody>\n",
       "    <tr>\n",
       "      <th>0</th>\n",
       "      <td>19</td>\n",
       "      <td>female</td>\n",
       "      <td>27.900</td>\n",
       "      <td>0</td>\n",
       "      <td>yes</td>\n",
       "      <td>southwest</td>\n",
       "      <td>16884.92400</td>\n",
       "    </tr>\n",
       "    <tr>\n",
       "      <th>1</th>\n",
       "      <td>18</td>\n",
       "      <td>male</td>\n",
       "      <td>33.770</td>\n",
       "      <td>1</td>\n",
       "      <td>no</td>\n",
       "      <td>southeast</td>\n",
       "      <td>1725.55230</td>\n",
       "    </tr>\n",
       "    <tr>\n",
       "      <th>2</th>\n",
       "      <td>28</td>\n",
       "      <td>male</td>\n",
       "      <td>33.000</td>\n",
       "      <td>3</td>\n",
       "      <td>no</td>\n",
       "      <td>southeast</td>\n",
       "      <td>4449.46200</td>\n",
       "    </tr>\n",
       "    <tr>\n",
       "      <th>3</th>\n",
       "      <td>33</td>\n",
       "      <td>male</td>\n",
       "      <td>22.705</td>\n",
       "      <td>0</td>\n",
       "      <td>no</td>\n",
       "      <td>northwest</td>\n",
       "      <td>21984.47061</td>\n",
       "    </tr>\n",
       "    <tr>\n",
       "      <th>4</th>\n",
       "      <td>32</td>\n",
       "      <td>male</td>\n",
       "      <td>28.880</td>\n",
       "      <td>0</td>\n",
       "      <td>no</td>\n",
       "      <td>northwest</td>\n",
       "      <td>3866.85520</td>\n",
       "    </tr>\n",
       "  </tbody>\n",
       "</table>\n",
       "</div>"
      ],
      "text/plain": [
       "   age     sex     bmi  children smoker     region      charges\n",
       "0   19  female  27.900         0    yes  southwest  16884.92400\n",
       "1   18    male  33.770         1     no  southeast   1725.55230\n",
       "2   28    male  33.000         3     no  southeast   4449.46200\n",
       "3   33    male  22.705         0     no  northwest  21984.47061\n",
       "4   32    male  28.880         0     no  northwest   3866.85520"
      ]
     },
     "execution_count": 263,
     "metadata": {},
     "output_type": "execute_result"
    }
   ],
   "source": [
    "df_insurance.head()"
   ]
  },
  {
   "cell_type": "markdown",
   "id": "88ff00ce",
   "metadata": {},
   "source": [
    "## 3.Exploratory Data Analysis"
   ]
  },
  {
   "cell_type": "code",
   "execution_count": 264,
   "id": "c0535c10",
   "metadata": {},
   "outputs": [
    {
     "name": "stdout",
     "output_type": "stream",
     "text": [
      "<class 'pandas.core.frame.DataFrame'>\n",
      "RangeIndex: 1338 entries, 0 to 1337\n",
      "Data columns (total 7 columns):\n",
      " #   Column    Non-Null Count  Dtype  \n",
      "---  ------    --------------  -----  \n",
      " 0   age       1338 non-null   int64  \n",
      " 1   sex       1338 non-null   object \n",
      " 2   bmi       1338 non-null   float64\n",
      " 3   children  1338 non-null   int64  \n",
      " 4   smoker    1338 non-null   object \n",
      " 5   region    1338 non-null   object \n",
      " 6   charges   1338 non-null   float64\n",
      "dtypes: float64(2), int64(2), object(3)\n",
      "memory usage: 73.3+ KB\n"
     ]
    }
   ],
   "source": [
    "df_insurance.info()"
   ]
  },
  {
   "cell_type": "markdown",
   "id": "809558ef",
   "metadata": {},
   "source": [
    "### Checking for Missing Values"
   ]
  },
  {
   "cell_type": "code",
   "execution_count": 265,
   "id": "e975e4f8",
   "metadata": {},
   "outputs": [
    {
     "data": {
      "text/plain": [
       "age         0\n",
       "sex         0\n",
       "bmi         0\n",
       "children    0\n",
       "smoker      0\n",
       "region      0\n",
       "charges     0\n",
       "dtype: int64"
      ]
     },
     "execution_count": 265,
     "metadata": {},
     "output_type": "execute_result"
    }
   ],
   "source": [
    "df_insurance.isnull().sum()"
   ]
  },
  {
   "cell_type": "code",
   "execution_count": 266,
   "id": "7addaea9",
   "metadata": {},
   "outputs": [
    {
     "data": {
      "text/html": [
       "<div>\n",
       "<style scoped>\n",
       "    .dataframe tbody tr th:only-of-type {\n",
       "        vertical-align: middle;\n",
       "    }\n",
       "\n",
       "    .dataframe tbody tr th {\n",
       "        vertical-align: top;\n",
       "    }\n",
       "\n",
       "    .dataframe thead th {\n",
       "        text-align: right;\n",
       "    }\n",
       "</style>\n",
       "<table border=\"1\" class=\"dataframe\">\n",
       "  <thead>\n",
       "    <tr style=\"text-align: right;\">\n",
       "      <th></th>\n",
       "      <th>age</th>\n",
       "      <th>bmi</th>\n",
       "      <th>children</th>\n",
       "      <th>charges</th>\n",
       "    </tr>\n",
       "  </thead>\n",
       "  <tbody>\n",
       "    <tr>\n",
       "      <th>count</th>\n",
       "      <td>1338.000000</td>\n",
       "      <td>1338.000000</td>\n",
       "      <td>1338.000000</td>\n",
       "      <td>1338.000000</td>\n",
       "    </tr>\n",
       "    <tr>\n",
       "      <th>mean</th>\n",
       "      <td>39.207025</td>\n",
       "      <td>30.663397</td>\n",
       "      <td>1.094918</td>\n",
       "      <td>13270.422265</td>\n",
       "    </tr>\n",
       "    <tr>\n",
       "      <th>std</th>\n",
       "      <td>14.049960</td>\n",
       "      <td>6.098187</td>\n",
       "      <td>1.205493</td>\n",
       "      <td>12110.011237</td>\n",
       "    </tr>\n",
       "    <tr>\n",
       "      <th>min</th>\n",
       "      <td>18.000000</td>\n",
       "      <td>15.960000</td>\n",
       "      <td>0.000000</td>\n",
       "      <td>1121.873900</td>\n",
       "    </tr>\n",
       "    <tr>\n",
       "      <th>25%</th>\n",
       "      <td>27.000000</td>\n",
       "      <td>26.296250</td>\n",
       "      <td>0.000000</td>\n",
       "      <td>4740.287150</td>\n",
       "    </tr>\n",
       "    <tr>\n",
       "      <th>50%</th>\n",
       "      <td>39.000000</td>\n",
       "      <td>30.400000</td>\n",
       "      <td>1.000000</td>\n",
       "      <td>9382.033000</td>\n",
       "    </tr>\n",
       "    <tr>\n",
       "      <th>75%</th>\n",
       "      <td>51.000000</td>\n",
       "      <td>34.693750</td>\n",
       "      <td>2.000000</td>\n",
       "      <td>16639.912515</td>\n",
       "    </tr>\n",
       "    <tr>\n",
       "      <th>max</th>\n",
       "      <td>64.000000</td>\n",
       "      <td>53.130000</td>\n",
       "      <td>5.000000</td>\n",
       "      <td>63770.428010</td>\n",
       "    </tr>\n",
       "  </tbody>\n",
       "</table>\n",
       "</div>"
      ],
      "text/plain": [
       "               age          bmi     children       charges\n",
       "count  1338.000000  1338.000000  1338.000000   1338.000000\n",
       "mean     39.207025    30.663397     1.094918  13270.422265\n",
       "std      14.049960     6.098187     1.205493  12110.011237\n",
       "min      18.000000    15.960000     0.000000   1121.873900\n",
       "25%      27.000000    26.296250     0.000000   4740.287150\n",
       "50%      39.000000    30.400000     1.000000   9382.033000\n",
       "75%      51.000000    34.693750     2.000000  16639.912515\n",
       "max      64.000000    53.130000     5.000000  63770.428010"
      ]
     },
     "execution_count": 266,
     "metadata": {},
     "output_type": "execute_result"
    }
   ],
   "source": [
    "df_insurance.describe()"
   ]
  },
  {
   "cell_type": "markdown",
   "id": "d6d84c09",
   "metadata": {},
   "source": [
    "### Feature Engineering"
   ]
  },
  {
   "cell_type": "code",
   "execution_count": 268,
   "id": "fc7b2a37",
   "metadata": {},
   "outputs": [],
   "source": [
    "df_insurance['age_cat']=pd.cut(df_insurance.age,bins=[15,30,45,61],labels=['young','middle','old'])"
   ]
  },
  {
   "cell_type": "code",
   "execution_count": 269,
   "id": "8f516bc1",
   "metadata": {},
   "outputs": [],
   "source": [
    "df_insurance['category']=['single' if x==0 else 'family' for x in df_insurance['children']]"
   ]
  },
  {
   "cell_type": "code",
   "execution_count": 270,
   "id": "9f467f4e",
   "metadata": {},
   "outputs": [],
   "source": [
    "#df_insurance['bmi_status']=pd.cut(df_insurance.bmi,bins=[0,19,25,30,60],labels=['underweight','healthy','overweight','obese'])"
   ]
  },
  {
   "cell_type": "code",
   "execution_count": 271,
   "id": "abbf2e96",
   "metadata": {},
   "outputs": [],
   "source": [
    "#Dropping the extra columns since we donnot require it for model building"
   ]
  },
  {
   "cell_type": "code",
   "execution_count": 272,
   "id": "d623e7f3",
   "metadata": {},
   "outputs": [],
   "source": [
    "df_insurance=df_insurance.drop(['age','children'],axis=1)"
   ]
  },
  {
   "cell_type": "code",
   "execution_count": 273,
   "id": "50fd36c6",
   "metadata": {},
   "outputs": [
    {
     "data": {
      "text/html": [
       "<div>\n",
       "<style scoped>\n",
       "    .dataframe tbody tr th:only-of-type {\n",
       "        vertical-align: middle;\n",
       "    }\n",
       "\n",
       "    .dataframe tbody tr th {\n",
       "        vertical-align: top;\n",
       "    }\n",
       "\n",
       "    .dataframe thead th {\n",
       "        text-align: right;\n",
       "    }\n",
       "</style>\n",
       "<table border=\"1\" class=\"dataframe\">\n",
       "  <thead>\n",
       "    <tr style=\"text-align: right;\">\n",
       "      <th></th>\n",
       "      <th>sex</th>\n",
       "      <th>bmi</th>\n",
       "      <th>smoker</th>\n",
       "      <th>region</th>\n",
       "      <th>charges</th>\n",
       "      <th>age_cat</th>\n",
       "      <th>category</th>\n",
       "    </tr>\n",
       "  </thead>\n",
       "  <tbody>\n",
       "    <tr>\n",
       "      <th>0</th>\n",
       "      <td>female</td>\n",
       "      <td>27.900</td>\n",
       "      <td>yes</td>\n",
       "      <td>southwest</td>\n",
       "      <td>16884.92400</td>\n",
       "      <td>young</td>\n",
       "      <td>single</td>\n",
       "    </tr>\n",
       "    <tr>\n",
       "      <th>1</th>\n",
       "      <td>male</td>\n",
       "      <td>33.770</td>\n",
       "      <td>no</td>\n",
       "      <td>southeast</td>\n",
       "      <td>1725.55230</td>\n",
       "      <td>young</td>\n",
       "      <td>family</td>\n",
       "    </tr>\n",
       "    <tr>\n",
       "      <th>2</th>\n",
       "      <td>male</td>\n",
       "      <td>33.000</td>\n",
       "      <td>no</td>\n",
       "      <td>southeast</td>\n",
       "      <td>4449.46200</td>\n",
       "      <td>young</td>\n",
       "      <td>family</td>\n",
       "    </tr>\n",
       "    <tr>\n",
       "      <th>3</th>\n",
       "      <td>male</td>\n",
       "      <td>22.705</td>\n",
       "      <td>no</td>\n",
       "      <td>northwest</td>\n",
       "      <td>21984.47061</td>\n",
       "      <td>middle</td>\n",
       "      <td>single</td>\n",
       "    </tr>\n",
       "    <tr>\n",
       "      <th>4</th>\n",
       "      <td>male</td>\n",
       "      <td>28.880</td>\n",
       "      <td>no</td>\n",
       "      <td>northwest</td>\n",
       "      <td>3866.85520</td>\n",
       "      <td>middle</td>\n",
       "      <td>single</td>\n",
       "    </tr>\n",
       "  </tbody>\n",
       "</table>\n",
       "</div>"
      ],
      "text/plain": [
       "      sex     bmi smoker     region      charges age_cat category\n",
       "0  female  27.900    yes  southwest  16884.92400   young   single\n",
       "1    male  33.770     no  southeast   1725.55230   young   family\n",
       "2    male  33.000     no  southeast   4449.46200   young   family\n",
       "3    male  22.705     no  northwest  21984.47061  middle   single\n",
       "4    male  28.880     no  northwest   3866.85520  middle   single"
      ]
     },
     "execution_count": 273,
     "metadata": {},
     "output_type": "execute_result"
    }
   ],
   "source": [
    "df_insurance.head()"
   ]
  },
  {
   "cell_type": "markdown",
   "id": "dccf40cc",
   "metadata": {},
   "source": [
    "### Checking for outliers"
   ]
  },
  {
   "cell_type": "code",
   "execution_count": 275,
   "id": "18b3568e",
   "metadata": {},
   "outputs": [
    {
     "data": {
      "image/png": "[encoded data removed]",
      "text/plain": [
       "<Figure size 432x288 with 1 Axes>"
      ]
     },
     "metadata": {
      "needs_background": "light"
     },
     "output_type": "display_data"
    }
   ],
   "source": [
    "sns.boxplot(data=df_insurance)\n",
    "plt.show()"
   ]
  },
  {
   "cell_type": "markdown",
   "id": "af390912",
   "metadata": {},
   "source": [
    "We can see that there are outliers present in charges column.So we need to treat it."
   ]
  },
  {
   "cell_type": "code",
   "execution_count": 276,
   "id": "1bf104b8",
   "metadata": {},
   "outputs": [],
   "source": [
    "#Treating the outliers"
   ]
  },
  {
   "cell_type": "code",
   "execution_count": 277,
   "id": "86ae5ac3",
   "metadata": {},
   "outputs": [],
   "source": [
    "def boundaries(data,variable):\n",
    "    LL=(data[variable].quantile(.25))-(((data[variable].quantile(.75))-(data[variable].quantile(.25)))*1.5)\n",
    "    UL=(data[variable].quantile(.75))+(((data[variable].quantile(.75))-(data[variable].quantile(.25)))*1.5)\n",
    "    return LL,UL"
   ]
  },
  {
   "cell_type": "code",
   "execution_count": 278,
   "id": "2c4018d3",
   "metadata": {},
   "outputs": [],
   "source": [
    "cols=['bmi','charges']"
   ]
  },
  {
   "cell_type": "code",
   "execution_count": 279,
   "id": "8c99b9aa",
   "metadata": {},
   "outputs": [],
   "source": [
    "for col in cols:\n",
    "    LL,UL=boundaries(df_insurance,col)\n",
    "    \n",
    "    df_insurance[col]=np.where(df_insurance[col]<LL,LL,\n",
    "                            np.where(df_insurance[col]>UL,UL,df_insurance[col]))"
   ]
  },
  {
   "cell_type": "code",
   "execution_count": 280,
   "id": "5ecc3cc2",
   "metadata": {},
   "outputs": [
    {
     "data": {
      "image/png": "[encoded data removed]",
      "text/plain": [
       "<Figure size 432x288 with 1 Axes>"
      ]
     },
     "metadata": {
      "needs_background": "light"
     },
     "output_type": "display_data"
    }
   ],
   "source": [
    "sns.boxplot(data=df_insurance)\n",
    "plt.show()"
   ]
  },
  {
   "cell_type": "markdown",
   "id": "0cf4399c",
   "metadata": {},
   "source": [
    "We can see that the outliers have been trated now."
   ]
  },
  {
   "cell_type": "code",
   "execution_count": 281,
   "id": "f9e76afc",
   "metadata": {},
   "outputs": [
    {
     "data": {
      "text/html": [
       "<div>\n",
       "<style scoped>\n",
       "    .dataframe tbody tr th:only-of-type {\n",
       "        vertical-align: middle;\n",
       "    }\n",
       "\n",
       "    .dataframe tbody tr th {\n",
       "        vertical-align: top;\n",
       "    }\n",
       "\n",
       "    .dataframe thead th {\n",
       "        text-align: right;\n",
       "    }\n",
       "</style>\n",
       "<table border=\"1\" class=\"dataframe\">\n",
       "  <thead>\n",
       "    <tr style=\"text-align: right;\">\n",
       "      <th></th>\n",
       "      <th>sex</th>\n",
       "      <th>bmi</th>\n",
       "      <th>smoker</th>\n",
       "      <th>region</th>\n",
       "      <th>charges</th>\n",
       "      <th>age_cat</th>\n",
       "      <th>category</th>\n",
       "    </tr>\n",
       "  </thead>\n",
       "  <tbody>\n",
       "    <tr>\n",
       "      <th>0</th>\n",
       "      <td>female</td>\n",
       "      <td>27.900</td>\n",
       "      <td>yes</td>\n",
       "      <td>southwest</td>\n",
       "      <td>16884.92400</td>\n",
       "      <td>young</td>\n",
       "      <td>single</td>\n",
       "    </tr>\n",
       "    <tr>\n",
       "      <th>1</th>\n",
       "      <td>male</td>\n",
       "      <td>33.770</td>\n",
       "      <td>no</td>\n",
       "      <td>southeast</td>\n",
       "      <td>1725.55230</td>\n",
       "      <td>young</td>\n",
       "      <td>family</td>\n",
       "    </tr>\n",
       "    <tr>\n",
       "      <th>2</th>\n",
       "      <td>male</td>\n",
       "      <td>33.000</td>\n",
       "      <td>no</td>\n",
       "      <td>southeast</td>\n",
       "      <td>4449.46200</td>\n",
       "      <td>young</td>\n",
       "      <td>family</td>\n",
       "    </tr>\n",
       "    <tr>\n",
       "      <th>3</th>\n",
       "      <td>male</td>\n",
       "      <td>22.705</td>\n",
       "      <td>no</td>\n",
       "      <td>northwest</td>\n",
       "      <td>21984.47061</td>\n",
       "      <td>middle</td>\n",
       "      <td>single</td>\n",
       "    </tr>\n",
       "    <tr>\n",
       "      <th>4</th>\n",
       "      <td>male</td>\n",
       "      <td>28.880</td>\n",
       "      <td>no</td>\n",
       "      <td>northwest</td>\n",
       "      <td>3866.85520</td>\n",
       "      <td>middle</td>\n",
       "      <td>single</td>\n",
       "    </tr>\n",
       "    <tr>\n",
       "      <th>...</th>\n",
       "      <td>...</td>\n",
       "      <td>...</td>\n",
       "      <td>...</td>\n",
       "      <td>...</td>\n",
       "      <td>...</td>\n",
       "      <td>...</td>\n",
       "      <td>...</td>\n",
       "    </tr>\n",
       "    <tr>\n",
       "      <th>1333</th>\n",
       "      <td>male</td>\n",
       "      <td>30.970</td>\n",
       "      <td>no</td>\n",
       "      <td>northwest</td>\n",
       "      <td>10600.54830</td>\n",
       "      <td>old</td>\n",
       "      <td>family</td>\n",
       "    </tr>\n",
       "    <tr>\n",
       "      <th>1334</th>\n",
       "      <td>female</td>\n",
       "      <td>31.920</td>\n",
       "      <td>no</td>\n",
       "      <td>northeast</td>\n",
       "      <td>2205.98080</td>\n",
       "      <td>young</td>\n",
       "      <td>single</td>\n",
       "    </tr>\n",
       "    <tr>\n",
       "      <th>1335</th>\n",
       "      <td>female</td>\n",
       "      <td>36.850</td>\n",
       "      <td>no</td>\n",
       "      <td>southeast</td>\n",
       "      <td>1629.83350</td>\n",
       "      <td>young</td>\n",
       "      <td>single</td>\n",
       "    </tr>\n",
       "    <tr>\n",
       "      <th>1336</th>\n",
       "      <td>female</td>\n",
       "      <td>25.800</td>\n",
       "      <td>no</td>\n",
       "      <td>southwest</td>\n",
       "      <td>2007.94500</td>\n",
       "      <td>young</td>\n",
       "      <td>single</td>\n",
       "    </tr>\n",
       "    <tr>\n",
       "      <th>1337</th>\n",
       "      <td>female</td>\n",
       "      <td>29.070</td>\n",
       "      <td>yes</td>\n",
       "      <td>northwest</td>\n",
       "      <td>29141.36030</td>\n",
       "      <td>old</td>\n",
       "      <td>single</td>\n",
       "    </tr>\n",
       "  </tbody>\n",
       "</table>\n",
       "<p>1338 rows × 7 columns</p>\n",
       "</div>"
      ],
      "text/plain": [
       "         sex     bmi smoker     region      charges age_cat category\n",
       "0     female  27.900    yes  southwest  16884.92400   young   single\n",
       "1       male  33.770     no  southeast   1725.55230   young   family\n",
       "2       male  33.000     no  southeast   4449.46200   young   family\n",
       "3       male  22.705     no  northwest  21984.47061  middle   single\n",
       "4       male  28.880     no  northwest   3866.85520  middle   single\n",
       "...      ...     ...    ...        ...          ...     ...      ...\n",
       "1333    male  30.970     no  northwest  10600.54830     old   family\n",
       "1334  female  31.920     no  northeast   2205.98080   young   single\n",
       "1335  female  36.850     no  southeast   1629.83350   young   single\n",
       "1336  female  25.800     no  southwest   2007.94500   young   single\n",
       "1337  female  29.070    yes  northwest  29141.36030     old   single\n",
       "\n",
       "[1338 rows x 7 columns]"
      ]
     },
     "execution_count": 281,
     "metadata": {},
     "output_type": "execute_result"
    }
   ],
   "source": [
    "df_insurance"
   ]
  },
  {
   "cell_type": "markdown",
   "id": "13e5119a",
   "metadata": {},
   "source": [
    "### Test for Correlation"
   ]
  },
  {
   "cell_type": "code",
   "execution_count": 286,
   "id": "0ab55e25",
   "metadata": {},
   "outputs": [],
   "source": [
    "vcorr=df_insurance.corr()"
   ]
  },
  {
   "cell_type": "code",
   "execution_count": 287,
   "id": "76aa4f31",
   "metadata": {},
   "outputs": [
    {
     "data": {
      "text/html": [
       "<div>\n",
       "<style scoped>\n",
       "    .dataframe tbody tr th:only-of-type {\n",
       "        vertical-align: middle;\n",
       "    }\n",
       "\n",
       "    .dataframe tbody tr th {\n",
       "        vertical-align: top;\n",
       "    }\n",
       "\n",
       "    .dataframe thead th {\n",
       "        text-align: right;\n",
       "    }\n",
       "</style>\n",
       "<table border=\"1\" class=\"dataframe\">\n",
       "  <thead>\n",
       "    <tr style=\"text-align: right;\">\n",
       "      <th></th>\n",
       "      <th>bmi</th>\n",
       "      <th>charges</th>\n",
       "    </tr>\n",
       "  </thead>\n",
       "  <tbody>\n",
       "    <tr>\n",
       "      <th>bmi</th>\n",
       "      <td>1.000000</td>\n",
       "      <td>0.160996</td>\n",
       "    </tr>\n",
       "    <tr>\n",
       "      <th>charges</th>\n",
       "      <td>0.160996</td>\n",
       "      <td>1.000000</td>\n",
       "    </tr>\n",
       "  </tbody>\n",
       "</table>\n",
       "</div>"
      ],
      "text/plain": [
       "              bmi   charges\n",
       "bmi      1.000000  0.160996\n",
       "charges  0.160996  1.000000"
      ]
     },
     "execution_count": 287,
     "metadata": {},
     "output_type": "execute_result"
    }
   ],
   "source": [
    "vcorr"
   ]
  },
  {
   "cell_type": "code",
   "execution_count": 288,
   "id": "ec5b6fbb",
   "metadata": {},
   "outputs": [
    {
     "data": {
      "image/png": "[encoded data removed]",
      "text/plain": [
       "<Figure size 432x288 with 2 Axes>"
      ]
     },
     "metadata": {
      "needs_background": "light"
     },
     "output_type": "display_data"
    }
   ],
   "source": [
    "sns.heatmap(vcorr[(vcorr>0.85) | (vcorr<-0.85)],annot=True)\n",
    "plt.show()"
   ]
  },
  {
   "cell_type": "markdown",
   "id": "63626383",
   "metadata": {},
   "source": [
    "We can find that there is no strong correlation."
   ]
  },
  {
   "cell_type": "markdown",
   "id": "0b47b502",
   "metadata": {},
   "source": [
    "### Test for normality"
   ]
  },
  {
   "cell_type": "code",
   "execution_count": 290,
   "id": "2575c706",
   "metadata": {},
   "outputs": [
    {
     "data": {
      "image/png": "[encoded data removed]",
      "text/plain": [
       "<Figure size 432x288 with 1 Axes>"
      ]
     },
     "metadata": {
      "needs_background": "light"
     },
     "output_type": "display_data"
    }
   ],
   "source": [
    "sns.kdeplot(x='charges',data=df_insurance)\n",
    "plt.show()"
   ]
  },
  {
   "cell_type": "code",
   "execution_count": 291,
   "id": "0c38ceae",
   "metadata": {},
   "outputs": [
    {
     "data": {
      "text/plain": [
       "1.0837301093573644"
      ]
     },
     "execution_count": 291,
     "metadata": {},
     "output_type": "execute_result"
    }
   ],
   "source": [
    "df_insurance.charges.skew()"
   ]
  },
  {
   "cell_type": "code",
   "execution_count": 292,
   "id": "967bcb68",
   "metadata": {},
   "outputs": [],
   "source": [
    "df_insurance['log_charges']=np.log(df_insurance['charges'])"
   ]
  },
  {
   "cell_type": "code",
   "execution_count": 293,
   "id": "2420655a",
   "metadata": {},
   "outputs": [
    {
     "data": {
      "text/html": [
       "<div>\n",
       "<style scoped>\n",
       "    .dataframe tbody tr th:only-of-type {\n",
       "        vertical-align: middle;\n",
       "    }\n",
       "\n",
       "    .dataframe tbody tr th {\n",
       "        vertical-align: top;\n",
       "    }\n",
       "\n",
       "    .dataframe thead th {\n",
       "        text-align: right;\n",
       "    }\n",
       "</style>\n",
       "<table border=\"1\" class=\"dataframe\">\n",
       "  <thead>\n",
       "    <tr style=\"text-align: right;\">\n",
       "      <th></th>\n",
       "      <th>sex</th>\n",
       "      <th>bmi</th>\n",
       "      <th>smoker</th>\n",
       "      <th>region</th>\n",
       "      <th>charges</th>\n",
       "      <th>age_cat</th>\n",
       "      <th>category</th>\n",
       "      <th>log_charges</th>\n",
       "    </tr>\n",
       "  </thead>\n",
       "  <tbody>\n",
       "    <tr>\n",
       "      <th>0</th>\n",
       "      <td>female</td>\n",
       "      <td>27.900</td>\n",
       "      <td>yes</td>\n",
       "      <td>southwest</td>\n",
       "      <td>16884.92400</td>\n",
       "      <td>young</td>\n",
       "      <td>single</td>\n",
       "      <td>9.734176</td>\n",
       "    </tr>\n",
       "    <tr>\n",
       "      <th>1</th>\n",
       "      <td>male</td>\n",
       "      <td>33.770</td>\n",
       "      <td>no</td>\n",
       "      <td>southeast</td>\n",
       "      <td>1725.55230</td>\n",
       "      <td>young</td>\n",
       "      <td>family</td>\n",
       "      <td>7.453302</td>\n",
       "    </tr>\n",
       "    <tr>\n",
       "      <th>2</th>\n",
       "      <td>male</td>\n",
       "      <td>33.000</td>\n",
       "      <td>no</td>\n",
       "      <td>southeast</td>\n",
       "      <td>4449.46200</td>\n",
       "      <td>young</td>\n",
       "      <td>family</td>\n",
       "      <td>8.400538</td>\n",
       "    </tr>\n",
       "    <tr>\n",
       "      <th>3</th>\n",
       "      <td>male</td>\n",
       "      <td>22.705</td>\n",
       "      <td>no</td>\n",
       "      <td>northwest</td>\n",
       "      <td>21984.47061</td>\n",
       "      <td>middle</td>\n",
       "      <td>single</td>\n",
       "      <td>9.998092</td>\n",
       "    </tr>\n",
       "    <tr>\n",
       "      <th>4</th>\n",
       "      <td>male</td>\n",
       "      <td>28.880</td>\n",
       "      <td>no</td>\n",
       "      <td>northwest</td>\n",
       "      <td>3866.85520</td>\n",
       "      <td>middle</td>\n",
       "      <td>single</td>\n",
       "      <td>8.260197</td>\n",
       "    </tr>\n",
       "  </tbody>\n",
       "</table>\n",
       "</div>"
      ],
      "text/plain": [
       "      sex     bmi smoker     region      charges age_cat category  log_charges\n",
       "0  female  27.900    yes  southwest  16884.92400   young   single     9.734176\n",
       "1    male  33.770     no  southeast   1725.55230   young   family     7.453302\n",
       "2    male  33.000     no  southeast   4449.46200   young   family     8.400538\n",
       "3    male  22.705     no  northwest  21984.47061  middle   single     9.998092\n",
       "4    male  28.880     no  northwest   3866.85520  middle   single     8.260197"
      ]
     },
     "execution_count": 293,
     "metadata": {},
     "output_type": "execute_result"
    }
   ],
   "source": [
    "#Checking for the log charges column\n",
    "df_insurance.head()"
   ]
  },
  {
   "cell_type": "code",
   "execution_count": 294,
   "id": "243dd868",
   "metadata": {},
   "outputs": [
    {
     "data": {
      "image/png": "[encoded data removed]",
      "text/plain": [
       "<Figure size 432x288 with 1 Axes>"
      ]
     },
     "metadata": {
      "needs_background": "light"
     },
     "output_type": "display_data"
    }
   ],
   "source": [
    "sns.kdeplot(x='log_charges',data=df_insurance)\n",
    "plt.show()"
   ]
  },
  {
   "cell_type": "code",
   "execution_count": 295,
   "id": "b84ccd8a",
   "metadata": {},
   "outputs": [
    {
     "data": {
      "text/plain": [
       "-0.22369223793730086"
      ]
     },
     "execution_count": 295,
     "metadata": {},
     "output_type": "execute_result"
    }
   ],
   "source": [
    "df_insurance.log_charges.skew()"
   ]
  },
  {
   "cell_type": "markdown",
   "id": "26b559ab",
   "metadata": {},
   "source": [
    "### Creating a backup file"
   ]
  },
  {
   "cell_type": "code",
   "execution_count": 297,
   "id": "aaded0d2",
   "metadata": {},
   "outputs": [],
   "source": [
    "df_insurance1=df_insurance.copy(deep=True)"
   ]
  },
  {
   "cell_type": "markdown",
   "id": "7e0069c9",
   "metadata": {},
   "source": [
    "## 4.Dummy encoding of categorical Variables"
   ]
  },
  {
   "cell_type": "code",
   "execution_count": 299,
   "id": "f0f86c31",
   "metadata": {},
   "outputs": [],
   "source": [
    "df_insurance1_dummy=pd.get_dummies(df_insurance1,drop_first=True)"
   ]
  },
  {
   "cell_type": "code",
   "execution_count": 300,
   "id": "91b52d98",
   "metadata": {},
   "outputs": [
    {
     "data": {
      "text/plain": [
       "(1338, 11)"
      ]
     },
     "execution_count": 300,
     "metadata": {},
     "output_type": "execute_result"
    }
   ],
   "source": [
    "df_insurance1_dummy.shape"
   ]
  },
  {
   "cell_type": "code",
   "execution_count": 301,
   "id": "08ca9ca2",
   "metadata": {},
   "outputs": [
    {
     "data": {
      "text/html": [
       "<div>\n",
       "<style scoped>\n",
       "    .dataframe tbody tr th:only-of-type {\n",
       "        vertical-align: middle;\n",
       "    }\n",
       "\n",
       "    .dataframe tbody tr th {\n",
       "        vertical-align: top;\n",
       "    }\n",
       "\n",
       "    .dataframe thead th {\n",
       "        text-align: right;\n",
       "    }\n",
       "</style>\n",
       "<table border=\"1\" class=\"dataframe\">\n",
       "  <thead>\n",
       "    <tr style=\"text-align: right;\">\n",
       "      <th></th>\n",
       "      <th>bmi</th>\n",
       "      <th>charges</th>\n",
       "      <th>log_charges</th>\n",
       "      <th>sex_male</th>\n",
       "      <th>smoker_yes</th>\n",
       "      <th>region_northwest</th>\n",
       "      <th>region_southeast</th>\n",
       "      <th>region_southwest</th>\n",
       "      <th>age_cat_old</th>\n",
       "      <th>age_cat_young</th>\n",
       "      <th>category_single</th>\n",
       "    </tr>\n",
       "  </thead>\n",
       "  <tbody>\n",
       "    <tr>\n",
       "      <th>0</th>\n",
       "      <td>27.900</td>\n",
       "      <td>16884.92400</td>\n",
       "      <td>9.734176</td>\n",
       "      <td>0</td>\n",
       "      <td>1</td>\n",
       "      <td>0</td>\n",
       "      <td>0</td>\n",
       "      <td>1</td>\n",
       "      <td>0</td>\n",
       "      <td>1</td>\n",
       "      <td>1</td>\n",
       "    </tr>\n",
       "    <tr>\n",
       "      <th>1</th>\n",
       "      <td>33.770</td>\n",
       "      <td>1725.55230</td>\n",
       "      <td>7.453302</td>\n",
       "      <td>1</td>\n",
       "      <td>0</td>\n",
       "      <td>0</td>\n",
       "      <td>1</td>\n",
       "      <td>0</td>\n",
       "      <td>0</td>\n",
       "      <td>1</td>\n",
       "      <td>0</td>\n",
       "    </tr>\n",
       "    <tr>\n",
       "      <th>2</th>\n",
       "      <td>33.000</td>\n",
       "      <td>4449.46200</td>\n",
       "      <td>8.400538</td>\n",
       "      <td>1</td>\n",
       "      <td>0</td>\n",
       "      <td>0</td>\n",
       "      <td>1</td>\n",
       "      <td>0</td>\n",
       "      <td>0</td>\n",
       "      <td>1</td>\n",
       "      <td>0</td>\n",
       "    </tr>\n",
       "    <tr>\n",
       "      <th>3</th>\n",
       "      <td>22.705</td>\n",
       "      <td>21984.47061</td>\n",
       "      <td>9.998092</td>\n",
       "      <td>1</td>\n",
       "      <td>0</td>\n",
       "      <td>1</td>\n",
       "      <td>0</td>\n",
       "      <td>0</td>\n",
       "      <td>0</td>\n",
       "      <td>0</td>\n",
       "      <td>1</td>\n",
       "    </tr>\n",
       "    <tr>\n",
       "      <th>4</th>\n",
       "      <td>28.880</td>\n",
       "      <td>3866.85520</td>\n",
       "      <td>8.260197</td>\n",
       "      <td>1</td>\n",
       "      <td>0</td>\n",
       "      <td>1</td>\n",
       "      <td>0</td>\n",
       "      <td>0</td>\n",
       "      <td>0</td>\n",
       "      <td>0</td>\n",
       "      <td>1</td>\n",
       "    </tr>\n",
       "  </tbody>\n",
       "</table>\n",
       "</div>"
      ],
      "text/plain": [
       "      bmi      charges  log_charges  sex_male  smoker_yes  region_northwest  \\\n",
       "0  27.900  16884.92400     9.734176         0           1                 0   \n",
       "1  33.770   1725.55230     7.453302         1           0                 0   \n",
       "2  33.000   4449.46200     8.400538         1           0                 0   \n",
       "3  22.705  21984.47061     9.998092         1           0                 1   \n",
       "4  28.880   3866.85520     8.260197         1           0                 1   \n",
       "\n",
       "   region_southeast  region_southwest  age_cat_old  age_cat_young  \\\n",
       "0                 0                 1            0              1   \n",
       "1                 1                 0            0              1   \n",
       "2                 1                 0            0              1   \n",
       "3                 0                 0            0              0   \n",
       "4                 0                 0            0              0   \n",
       "\n",
       "   category_single  \n",
       "0                1  \n",
       "1                0  \n",
       "2                0  \n",
       "3                1  \n",
       "4                1  "
      ]
     },
     "execution_count": 301,
     "metadata": {},
     "output_type": "execute_result"
    }
   ],
   "source": [
    "df_insurance1_dummy.head()"
   ]
  },
  {
   "cell_type": "code",
   "execution_count": 302,
   "id": "72289396",
   "metadata": {},
   "outputs": [
    {
     "data": {
      "image/png": "[encoded data removed]",
      "text/plain": [
       "<Figure size 720x720 with 2 Axes>"
      ]
     },
     "metadata": {
      "needs_background": "light"
     },
     "output_type": "display_data"
    }
   ],
   "source": [
    "f, ax = plt.subplots(figsize=(10, 10))\n",
    "sns.heatmap(df_insurance1_dummy.corr(),annot=True)\n",
    "plt.show()"
   ]
  },
  {
   "cell_type": "markdown",
   "id": "2aed985b",
   "metadata": {},
   "source": [
    "## 5.Visualisations"
   ]
  },
  {
   "cell_type": "code",
   "execution_count": 308,
   "id": "0194387a",
   "metadata": {},
   "outputs": [],
   "source": [
    "#Counting the males and females"
   ]
  },
  {
   "cell_type": "code",
   "execution_count": 310,
   "id": "c8a5d1c8",
   "metadata": {},
   "outputs": [
    {
     "data": {
      "image/png": "[encoded data removed]",
      "text/plain": [
       "<Figure size 432x288 with 1 Axes>"
      ]
     },
     "metadata": {
      "needs_background": "light"
     },
     "output_type": "display_data"
    }
   ],
   "source": [
    "cp=sns.countplot(df_insurance['sex'])\n",
    "cp.bar_label(cp.containers[0])\n",
    "plt.show()"
   ]
  },
  {
   "cell_type": "markdown",
   "id": "2b25f369",
   "metadata": {},
   "source": [
    "There are 662 females and 676 males in total."
   ]
  },
  {
   "cell_type": "code",
   "execution_count": 311,
   "id": "be903056",
   "metadata": {},
   "outputs": [],
   "source": [
    "#Plotting age_cat and charges distribution"
   ]
  },
  {
   "cell_type": "code",
   "execution_count": 314,
   "id": "7ff99e81",
   "metadata": {},
   "outputs": [
    {
     "data": {
      "image/png": "[encoded data removed]",
      "text/plain": [
       "<Figure size 432x288 with 1 Axes>"
      ]
     },
     "metadata": {
      "needs_background": "light"
     },
     "output_type": "display_data"
    }
   ],
   "source": [
    "sns.barplot(x='age_cat',y='charges',data=df_insurance,errwidth=0)\n",
    "plt.show()"
   ]
  },
  {
   "cell_type": "markdown",
   "id": "9e730673",
   "metadata": {},
   "source": [
    "We can find that the medical charges as well as insurance cost increases with increase in age."
   ]
  },
  {
   "cell_type": "code",
   "execution_count": 306,
   "id": "9ad3d577",
   "metadata": {},
   "outputs": [],
   "source": [
    "#finding out how many single person and family were covered with insurance"
   ]
  },
  {
   "cell_type": "code",
   "execution_count": 315,
   "id": "f150d505",
   "metadata": {},
   "outputs": [
    {
     "data": {
      "text/plain": [
       "family    764\n",
       "single    574\n",
       "Name: category, dtype: int64"
      ]
     },
     "execution_count": 315,
     "metadata": {},
     "output_type": "execute_result"
    }
   ],
   "source": [
    "df_insurance.category.value_counts()"
   ]
  },
  {
   "cell_type": "code",
   "execution_count": 316,
   "id": "3528cbd0",
   "metadata": {},
   "outputs": [
    {
     "data": {
      "image/png": "[encoded data removed]",
      "text/plain": [
       "<Figure size 432x288 with 1 Axes>"
      ]
     },
     "metadata": {},
     "output_type": "display_data"
    }
   ],
   "source": [
    "keys=['family','single']\n",
    "\n",
    "plt.pie(df_insurance['category'].value_counts(),labels=keys,autopct='%.2f%%')\n",
    "plt.show()"
   ]
  },
  {
   "cell_type": "markdown",
   "id": "0f976574",
   "metadata": {},
   "source": [
    "As per the pie chart, 57.10% of the total individuals had insurance for their family, whereas 42.90% had it for themselves."
   ]
  },
  {
   "cell_type": "code",
   "execution_count": 317,
   "id": "a0693fff",
   "metadata": {},
   "outputs": [],
   "source": [
    "#Finding the relation between category and charges"
   ]
  },
  {
   "cell_type": "code",
   "execution_count": 318,
   "id": "a59e886a",
   "metadata": {},
   "outputs": [
    {
     "data": {
      "image/png": "[encoded data removed]",
      "text/plain": [
       "<Figure size 432x288 with 1 Axes>"
      ]
     },
     "metadata": {
      "needs_background": "light"
     },
     "output_type": "display_data"
    }
   ],
   "source": [
    "sns.barplot(x='category',y='charges',data=df_insurance,errwidth=0)\n",
    "plt.show()"
   ]
  },
  {
   "cell_type": "markdown",
   "id": "d253c498",
   "metadata": {},
   "source": [
    "According to the plot, the insurance charges for entire family is more as compared to insurance charges for individual."
   ]
  },
  {
   "cell_type": "code",
   "execution_count": 319,
   "id": "bbaf0c3c",
   "metadata": {},
   "outputs": [],
   "source": [
    "#Finding out how charges vary depending on sex of the person and his/her smoking behaviour"
   ]
  },
  {
   "cell_type": "code",
   "execution_count": 321,
   "id": "86132832",
   "metadata": {},
   "outputs": [
    {
     "data": {
      "image/png": "[encoded data removed]",
      "text/plain": [
       "<Figure size 432x288 with 1 Axes>"
      ]
     },
     "metadata": {
      "needs_background": "light"
     },
     "output_type": "display_data"
    }
   ],
   "source": [
    "sns.barplot(x='sex',y='charges',hue='smoker',data=df_insurance,errwidth=0)\n",
    "plt.show()"
   ]
  },
  {
   "cell_type": "markdown",
   "id": "cf0aea76",
   "metadata": {},
   "source": [
    "As per the graph, males pay a greater amount towards insurance as compared to females. We can also see clearly that insurance costs are very high if the person is a smoker."
   ]
  },
  {
   "cell_type": "code",
   "execution_count": 326,
   "id": "1d053df7",
   "metadata": {},
   "outputs": [],
   "source": [
    "#region wise distribution"
   ]
  },
  {
   "cell_type": "code",
   "execution_count": 329,
   "id": "d3f67d12",
   "metadata": {},
   "outputs": [
    {
     "data": {
      "image/png": "[encoded data removed]",
      "text/plain": [
       "<Figure size 432x288 with 1 Axes>"
      ]
     },
     "metadata": {
      "needs_background": "light"
     },
     "output_type": "display_data"
    }
   ],
   "source": [
    "cp=sns.countplot(df_insurance['region'])\n",
    "cp.bar_label(cp.containers[0])\n",
    "plt.show()"
   ]
  },
  {
   "cell_type": "markdown",
   "id": "9c28d2cc",
   "metadata": {},
   "source": [
    "The highest observation is from southeast region."
   ]
  },
  {
   "cell_type": "code",
   "execution_count": 330,
   "id": "91fc93bf",
   "metadata": {},
   "outputs": [],
   "source": [
    "#Finding out how charges vary depending on region of the person and his/her smoking behaviour"
   ]
  },
  {
   "cell_type": "code",
   "execution_count": 334,
   "id": "01fd7bf5",
   "metadata": {},
   "outputs": [
    {
     "data": {
      "image/png": "[encoded data removed]",
      "text/plain": [
       "<Figure size 648x576 with 1 Axes>"
      ]
     },
     "metadata": {
      "needs_background": "light"
     },
     "output_type": "display_data"
    }
   ],
   "source": [
    "plt.figure(figsize=(9,8))\n",
    "bp=sns.barplot(x='region',y='charges',hue='smoker',data=df_insurance,errwidth=0)\n",
    "bp.bar_label(bp.containers[0])\n",
    "plt.show()"
   ]
  },
  {
   "cell_type": "markdown",
   "id": "0a9194a7",
   "metadata": {},
   "source": [
    "We can find that in all regions, the smokers are much more as compared to non-smokers."
   ]
  },
  {
   "cell_type": "markdown",
   "id": "5feb1dc3",
   "metadata": {},
   "source": [
    "## 6.Separating the dependent and independent features"
   ]
  },
  {
   "cell_type": "code",
   "execution_count": 158,
   "id": "13f5c9e4",
   "metadata": {},
   "outputs": [],
   "source": [
    "X=df_insurance1_dummy.drop(['charges','log_charges'],axis=1)\n",
    "y=df_insurance1_dummy[['charges','log_charges']]"
   ]
  },
  {
   "cell_type": "markdown",
   "id": "d83ef3dc",
   "metadata": {},
   "source": [
    "## 7.Splitting the data into train and test data set"
   ]
  },
  {
   "cell_type": "code",
   "execution_count": 160,
   "id": "f50743b8",
   "metadata": {},
   "outputs": [],
   "source": [
    "X_train,X_test,y_train,y_test=train_test_split(X,y,test_size=0.20,random_state=1)"
   ]
  },
  {
   "cell_type": "code",
   "execution_count": 161,
   "id": "10c3a8ae",
   "metadata": {},
   "outputs": [
    {
     "data": {
      "text/plain": [
       "((1070, 9), (268, 9), (1070, 2), (268, 2))"
      ]
     },
     "execution_count": 161,
     "metadata": {},
     "output_type": "execute_result"
    }
   ],
   "source": [
    "X_train.shape,X_test.shape,y_train.shape,y_test.shape"
   ]
  },
  {
   "cell_type": "markdown",
   "id": "575170ed",
   "metadata": {},
   "source": [
    "## 8.Scaling the data"
   ]
  },
  {
   "cell_type": "code",
   "execution_count": 163,
   "id": "b005eeb1",
   "metadata": {},
   "outputs": [],
   "source": [
    "sc=StandardScaler()"
   ]
  },
  {
   "cell_type": "code",
   "execution_count": 164,
   "id": "981f6fb3",
   "metadata": {},
   "outputs": [],
   "source": [
    "X_train_scaled=sc.fit_transform(X_train)\n",
    "X_test_scaled=sc.transform(X_test)"
   ]
  },
  {
   "cell_type": "markdown",
   "id": "e7e09625",
   "metadata": {},
   "source": [
    "## 9.Finding best parmeters"
   ]
  },
  {
   "cell_type": "code",
   "execution_count": 179,
   "id": "cc43add1",
   "metadata": {},
   "outputs": [],
   "source": [
    "#GridSearch CV"
   ]
  },
  {
   "cell_type": "code",
   "execution_count": 180,
   "id": "68a0002a",
   "metadata": {},
   "outputs": [],
   "source": [
    "#gridsearchCV using RandomForest model(with Charges column)"
   ]
  },
  {
   "cell_type": "code",
   "execution_count": 181,
   "id": "15f7c444",
   "metadata": {},
   "outputs": [],
   "source": [
    "tuned_parameters={'n_estimators':[85,100],'min_samples_split':[15,20],'max_depth':[8,10]}"
   ]
  },
  {
   "cell_type": "code",
   "execution_count": 182,
   "id": "836c733e",
   "metadata": {},
   "outputs": [
    {
     "data": {
      "text/html": [
       "<style>#sk-container-id-10 {color: black;background-color: white;}#sk-container-id-10 pre{padding: 0;}#sk-container-id-10 div.sk-toggleable {background-color: white;}#sk-container-id-10 label.sk-toggleable__label {cursor: pointer;display: block;width: 100%;margin-bottom: 0;padding: 0.3em;box-sizing: border-box;text-align: center;}#sk-container-id-10 label.sk-toggleable__label-arrow:before {content: \"▸\";float: left;margin-right: 0.25em;color: #696969;}#sk-container-id-10 label.sk-toggleable__label-arrow:hover:before {color: black;}#sk-container-id-10 div.sk-estimator:hover label.sk-toggleable__label-arrow:before {color: black;}#sk-container-id-10 div.sk-toggleable__content {max-height: 0;max-width: 0;overflow: hidden;text-align: left;background-color: #f0f8ff;}#sk-container-id-10 div.sk-toggleable__content pre {margin: 0.2em;color: black;border-radius: 0.25em;background-color: #f0f8ff;}#sk-container-id-10 input.sk-toggleable__control:checked~div.sk-toggleable__content {max-height: 200px;max-width: 100%;overflow: auto;}#sk-container-id-10 input.sk-toggleable__control:checked~label.sk-toggleable__label-arrow:before {content: \"▾\";}#sk-container-id-10 div.sk-estimator input.sk-toggleable__control:checked~label.sk-toggleable__label {background-color: #d4ebff;}#sk-container-id-10 div.sk-label input.sk-toggleable__control:checked~label.sk-toggleable__label {background-color: #d4ebff;}#sk-container-id-10 input.sk-hidden--visually {border: 0;clip: rect(1px 1px 1px 1px);clip: rect(1px, 1px, 1px, 1px);height: 1px;margin: -1px;overflow: hidden;padding: 0;position: absolute;width: 1px;}#sk-container-id-10 div.sk-estimator {font-family: monospace;background-color: #f0f8ff;border: 1px dotted black;border-radius: 0.25em;box-sizing: border-box;margin-bottom: 0.5em;}#sk-container-id-10 div.sk-estimator:hover {background-color: #d4ebff;}#sk-container-id-10 div.sk-parallel-item::after {content: \"\";width: 100%;border-bottom: 1px solid gray;flex-grow: 1;}#sk-container-id-10 div.sk-label:hover label.sk-toggleable__label {background-color: #d4ebff;}#sk-container-id-10 div.sk-serial::before {content: \"\";position: absolute;border-left: 1px solid gray;box-sizing: border-box;top: 0;bottom: 0;left: 50%;z-index: 0;}#sk-container-id-10 div.sk-serial {display: flex;flex-direction: column;align-items: center;background-color: white;padding-right: 0.2em;padding-left: 0.2em;position: relative;}#sk-container-id-10 div.sk-item {position: relative;z-index: 1;}#sk-container-id-10 div.sk-parallel {display: flex;align-items: stretch;justify-content: center;background-color: white;position: relative;}#sk-container-id-10 div.sk-item::before, #sk-container-id-10 div.sk-parallel-item::before {content: \"\";position: absolute;border-left: 1px solid gray;box-sizing: border-box;top: 0;bottom: 0;left: 50%;z-index: -1;}#sk-container-id-10 div.sk-parallel-item {display: flex;flex-direction: column;z-index: 1;position: relative;background-color: white;}#sk-container-id-10 div.sk-parallel-item:first-child::after {align-self: flex-end;width: 50%;}#sk-container-id-10 div.sk-parallel-item:last-child::after {align-self: flex-start;width: 50%;}#sk-container-id-10 div.sk-parallel-item:only-child::after {width: 0;}#sk-container-id-10 div.sk-dashed-wrapped {border: 1px dashed gray;margin: 0 0.4em 0.5em 0.4em;box-sizing: border-box;padding-bottom: 0.4em;background-color: white;}#sk-container-id-10 div.sk-label label {font-family: monospace;font-weight: bold;display: inline-block;line-height: 1.2em;}#sk-container-id-10 div.sk-label-container {text-align: center;}#sk-container-id-10 div.sk-container {/* jupyter's `normalize.less` sets `[hidden] { display: none; }` but bootstrap.min.css set `[hidden] { display: none !important; }` so we also need the `!important` here to be able to override the default hidden behavior on the sphinx rendered scikit-learn.org. See: https://github.com/scikit-learn/scikit-learn/issues/21755 */display: inline-block !important;position: relative;}#sk-container-id-10 div.sk-text-repr-fallback {display: none;}</style><div id=\"sk-container-id-10\" class=\"sk-top-container\"><div class=\"sk-text-repr-fallback\"><pre>GridSearchCV(cv=5, estimator=RandomForestRegressor(),\n",
       "             param_grid={&#x27;max_depth&#x27;: [8, 10], &#x27;min_samples_split&#x27;: [15, 20],\n",
       "                         &#x27;n_estimators&#x27;: [85, 100]})</pre><b>In a Jupyter environment, please rerun this cell to show the HTML representation or trust the notebook. <br />On GitHub, the HTML representation is unable to render, please try loading this page with nbviewer.org.</b></div><div class=\"sk-container\" hidden><div class=\"sk-item sk-dashed-wrapped\"><div class=\"sk-label-container\"><div class=\"sk-label sk-toggleable\"><input class=\"sk-toggleable__control sk-hidden--visually\" id=\"sk-estimator-id-16\" type=\"checkbox\" ><label for=\"sk-estimator-id-16\" class=\"sk-toggleable__label sk-toggleable__label-arrow\">GridSearchCV</label><div class=\"sk-toggleable__content\"><pre>GridSearchCV(cv=5, estimator=RandomForestRegressor(),\n",
       "             param_grid={&#x27;max_depth&#x27;: [8, 10], &#x27;min_samples_split&#x27;: [15, 20],\n",
       "                         &#x27;n_estimators&#x27;: [85, 100]})</pre></div></div></div><div class=\"sk-parallel\"><div class=\"sk-parallel-item\"><div class=\"sk-item\"><div class=\"sk-label-container\"><div class=\"sk-label sk-toggleable\"><input class=\"sk-toggleable__control sk-hidden--visually\" id=\"sk-estimator-id-17\" type=\"checkbox\" ><label for=\"sk-estimator-id-17\" class=\"sk-toggleable__label sk-toggleable__label-arrow\">estimator: RandomForestRegressor</label><div class=\"sk-toggleable__content\"><pre>RandomForestRegressor()</pre></div></div></div><div class=\"sk-serial\"><div class=\"sk-item\"><div class=\"sk-estimator sk-toggleable\"><input class=\"sk-toggleable__control sk-hidden--visually\" id=\"sk-estimator-id-18\" type=\"checkbox\" ><label for=\"sk-estimator-id-18\" class=\"sk-toggleable__label sk-toggleable__label-arrow\">RandomForestRegressor</label><div class=\"sk-toggleable__content\"><pre>RandomForestRegressor()</pre></div></div></div></div></div></div></div></div></div></div>"
      ],
      "text/plain": [
       "GridSearchCV(cv=5, estimator=RandomForestRegressor(),\n",
       "             param_grid={'max_depth': [8, 10], 'min_samples_split': [15, 20],\n",
       "                         'n_estimators': [85, 100]})"
      ]
     },
     "execution_count": 182,
     "metadata": {},
     "output_type": "execute_result"
    }
   ],
   "source": [
    "gs_model=GridSearchCV(estimator=rf1,param_grid=tuned_parameters,cv=5)\n",
    "gs_model.fit(X_train_scaled,y_train['charges'])"
   ]
  },
  {
   "cell_type": "code",
   "execution_count": 183,
   "id": "acd15f89",
   "metadata": {},
   "outputs": [
    {
     "name": "stdout",
     "output_type": "stream",
     "text": [
      "Best params are:  {'max_depth': 8, 'min_samples_split': 15, 'n_estimators': 100}\n"
     ]
    }
   ],
   "source": [
    "print('Best params are: ',gs_model.best_params_)"
   ]
  },
  {
   "cell_type": "code",
   "execution_count": 184,
   "id": "76dd5913",
   "metadata": {},
   "outputs": [],
   "source": [
    "#gridsearchCV using RandomForest model(with log charges)"
   ]
  },
  {
   "cell_type": "code",
   "execution_count": 185,
   "id": "4fc00069",
   "metadata": {},
   "outputs": [],
   "source": [
    "tuned_parameters={'n_estimators':[85,100],'min_samples_split':[15,20],'max_depth':[8,10]}"
   ]
  },
  {
   "cell_type": "code",
   "execution_count": 186,
   "id": "531c10aa",
   "metadata": {},
   "outputs": [
    {
     "data": {
      "text/html": [
       "<style>#sk-container-id-11 {color: black;background-color: white;}#sk-container-id-11 pre{padding: 0;}#sk-container-id-11 div.sk-toggleable {background-color: white;}#sk-container-id-11 label.sk-toggleable__label {cursor: pointer;display: block;width: 100%;margin-bottom: 0;padding: 0.3em;box-sizing: border-box;text-align: center;}#sk-container-id-11 label.sk-toggleable__label-arrow:before {content: \"▸\";float: left;margin-right: 0.25em;color: #696969;}#sk-container-id-11 label.sk-toggleable__label-arrow:hover:before {color: black;}#sk-container-id-11 div.sk-estimator:hover label.sk-toggleable__label-arrow:before {color: black;}#sk-container-id-11 div.sk-toggleable__content {max-height: 0;max-width: 0;overflow: hidden;text-align: left;background-color: #f0f8ff;}#sk-container-id-11 div.sk-toggleable__content pre {margin: 0.2em;color: black;border-radius: 0.25em;background-color: #f0f8ff;}#sk-container-id-11 input.sk-toggleable__control:checked~div.sk-toggleable__content {max-height: 200px;max-width: 100%;overflow: auto;}#sk-container-id-11 input.sk-toggleable__control:checked~label.sk-toggleable__label-arrow:before {content: \"▾\";}#sk-container-id-11 div.sk-estimator input.sk-toggleable__control:checked~label.sk-toggleable__label {background-color: #d4ebff;}#sk-container-id-11 div.sk-label input.sk-toggleable__control:checked~label.sk-toggleable__label {background-color: #d4ebff;}#sk-container-id-11 input.sk-hidden--visually {border: 0;clip: rect(1px 1px 1px 1px);clip: rect(1px, 1px, 1px, 1px);height: 1px;margin: -1px;overflow: hidden;padding: 0;position: absolute;width: 1px;}#sk-container-id-11 div.sk-estimator {font-family: monospace;background-color: #f0f8ff;border: 1px dotted black;border-radius: 0.25em;box-sizing: border-box;margin-bottom: 0.5em;}#sk-container-id-11 div.sk-estimator:hover {background-color: #d4ebff;}#sk-container-id-11 div.sk-parallel-item::after {content: \"\";width: 100%;border-bottom: 1px solid gray;flex-grow: 1;}#sk-container-id-11 div.sk-label:hover label.sk-toggleable__label {background-color: #d4ebff;}#sk-container-id-11 div.sk-serial::before {content: \"\";position: absolute;border-left: 1px solid gray;box-sizing: border-box;top: 0;bottom: 0;left: 50%;z-index: 0;}#sk-container-id-11 div.sk-serial {display: flex;flex-direction: column;align-items: center;background-color: white;padding-right: 0.2em;padding-left: 0.2em;position: relative;}#sk-container-id-11 div.sk-item {position: relative;z-index: 1;}#sk-container-id-11 div.sk-parallel {display: flex;align-items: stretch;justify-content: center;background-color: white;position: relative;}#sk-container-id-11 div.sk-item::before, #sk-container-id-11 div.sk-parallel-item::before {content: \"\";position: absolute;border-left: 1px solid gray;box-sizing: border-box;top: 0;bottom: 0;left: 50%;z-index: -1;}#sk-container-id-11 div.sk-parallel-item {display: flex;flex-direction: column;z-index: 1;position: relative;background-color: white;}#sk-container-id-11 div.sk-parallel-item:first-child::after {align-self: flex-end;width: 50%;}#sk-container-id-11 div.sk-parallel-item:last-child::after {align-self: flex-start;width: 50%;}#sk-container-id-11 div.sk-parallel-item:only-child::after {width: 0;}#sk-container-id-11 div.sk-dashed-wrapped {border: 1px dashed gray;margin: 0 0.4em 0.5em 0.4em;box-sizing: border-box;padding-bottom: 0.4em;background-color: white;}#sk-container-id-11 div.sk-label label {font-family: monospace;font-weight: bold;display: inline-block;line-height: 1.2em;}#sk-container-id-11 div.sk-label-container {text-align: center;}#sk-container-id-11 div.sk-container {/* jupyter's `normalize.less` sets `[hidden] { display: none; }` but bootstrap.min.css set `[hidden] { display: none !important; }` so we also need the `!important` here to be able to override the default hidden behavior on the sphinx rendered scikit-learn.org. See: https://github.com/scikit-learn/scikit-learn/issues/21755 */display: inline-block !important;position: relative;}#sk-container-id-11 div.sk-text-repr-fallback {display: none;}</style><div id=\"sk-container-id-11\" class=\"sk-top-container\"><div class=\"sk-text-repr-fallback\"><pre>GridSearchCV(cv=5, estimator=RandomForestRegressor(),\n",
       "             param_grid={&#x27;max_depth&#x27;: [8, 10], &#x27;min_samples_split&#x27;: [15, 20],\n",
       "                         &#x27;n_estimators&#x27;: [85, 100]})</pre><b>In a Jupyter environment, please rerun this cell to show the HTML representation or trust the notebook. <br />On GitHub, the HTML representation is unable to render, please try loading this page with nbviewer.org.</b></div><div class=\"sk-container\" hidden><div class=\"sk-item sk-dashed-wrapped\"><div class=\"sk-label-container\"><div class=\"sk-label sk-toggleable\"><input class=\"sk-toggleable__control sk-hidden--visually\" id=\"sk-estimator-id-19\" type=\"checkbox\" ><label for=\"sk-estimator-id-19\" class=\"sk-toggleable__label sk-toggleable__label-arrow\">GridSearchCV</label><div class=\"sk-toggleable__content\"><pre>GridSearchCV(cv=5, estimator=RandomForestRegressor(),\n",
       "             param_grid={&#x27;max_depth&#x27;: [8, 10], &#x27;min_samples_split&#x27;: [15, 20],\n",
       "                         &#x27;n_estimators&#x27;: [85, 100]})</pre></div></div></div><div class=\"sk-parallel\"><div class=\"sk-parallel-item\"><div class=\"sk-item\"><div class=\"sk-label-container\"><div class=\"sk-label sk-toggleable\"><input class=\"sk-toggleable__control sk-hidden--visually\" id=\"sk-estimator-id-20\" type=\"checkbox\" ><label for=\"sk-estimator-id-20\" class=\"sk-toggleable__label sk-toggleable__label-arrow\">estimator: RandomForestRegressor</label><div class=\"sk-toggleable__content\"><pre>RandomForestRegressor()</pre></div></div></div><div class=\"sk-serial\"><div class=\"sk-item\"><div class=\"sk-estimator sk-toggleable\"><input class=\"sk-toggleable__control sk-hidden--visually\" id=\"sk-estimator-id-21\" type=\"checkbox\" ><label for=\"sk-estimator-id-21\" class=\"sk-toggleable__label sk-toggleable__label-arrow\">RandomForestRegressor</label><div class=\"sk-toggleable__content\"><pre>RandomForestRegressor()</pre></div></div></div></div></div></div></div></div></div></div>"
      ],
      "text/plain": [
       "GridSearchCV(cv=5, estimator=RandomForestRegressor(),\n",
       "             param_grid={'max_depth': [8, 10], 'min_samples_split': [15, 20],\n",
       "                         'n_estimators': [85, 100]})"
      ]
     },
     "execution_count": 186,
     "metadata": {},
     "output_type": "execute_result"
    }
   ],
   "source": [
    "gs_model=GridSearchCV(estimator=rf1,param_grid=tuned_parameters,cv=5)\n",
    "gs_model.fit(X_train_scaled,y_train['log_charges'])"
   ]
  },
  {
   "cell_type": "code",
   "execution_count": 187,
   "id": "1ac034f0",
   "metadata": {},
   "outputs": [
    {
     "name": "stdout",
     "output_type": "stream",
     "text": [
      "Best params are:  {'max_depth': 8, 'min_samples_split': 20, 'n_estimators': 100}\n"
     ]
    }
   ],
   "source": [
    "print('Best params are: ',gs_model.best_params_)"
   ]
  },
  {
   "cell_type": "markdown",
   "id": "bb5d5261",
   "metadata": {},
   "source": [
    "## 10.Model Building"
   ]
  },
  {
   "cell_type": "markdown",
   "id": "54c5b63f",
   "metadata": {},
   "source": [
    "### Model Building with Charges as target column"
   ]
  },
  {
   "cell_type": "code",
   "execution_count": 188,
   "id": "97a2a8d8",
   "metadata": {},
   "outputs": [],
   "source": [
    "models=[LinearRegression(),SGDRegressor(),DecisionTreeRegressor(),RandomForestRegressor(),\n",
    "        RandomForestRegressor(n_estimators=100,min_samples_split=15,max_depth=8),\n",
    "        XGBRegressor(),GradientBoostingRegressor(),LGBMRegressor(),AdaBoostRegressor(),\n",
    "        SVR(kernel='linear'),SVR(kernel='rbf'),SVR(kernel='sigmoid'),SVR(kernel='poly'),\n",
    "       KNeighborsRegressor()]"
   ]
  },
  {
   "cell_type": "code",
   "execution_count": 189,
   "id": "cf28b641",
   "metadata": {},
   "outputs": [
    {
     "name": "stdout",
     "output_type": "stream",
     "text": [
      "LinearRegression(): \n",
      "MSE_train:  29449028.32278899\n",
      "MSE_test:  27543720.44933591\n",
      "RMSE_train:  5426.695893708159\n",
      "RMSE_test:  5248.211166610573\n",
      "R2_score_train:  0.7157642623859117\n",
      "R2_score_test:  0.7275801708089228\n",
      "\n",
      "SGDRegressor(): \n",
      "MSE_train:  29451932.506550062\n",
      "MSE_test:  27524217.70021129\n",
      "RMSE_train:  5426.96347016912\n",
      "RMSE_test:  5246.352799823063\n",
      "R2_score_train:  0.7157362318239371\n",
      "R2_score_test:  0.7277730618018101\n",
      "\n",
      "DecisionTreeRegressor(): \n",
      "MSE_train:  1078238.1151763848\n",
      "MSE_test:  44982907.30298501\n",
      "RMSE_train:  1038.3824513041352\n",
      "RMSE_test:  6706.929797081897\n",
      "R2_score_train:  0.9895930757839768\n",
      "R2_score_test:  0.555098740326756\n",
      "\n",
      "RandomForestRegressor(): \n",
      "MSE_train:  4493847.327517603\n",
      "MSE_test:  25398320.48694737\n",
      "RMSE_train:  2119.869648708996\n",
      "RMSE_test:  5039.674640981039\n",
      "R2_score_train:  0.9566263444803161\n",
      "R2_score_test:  0.7487991449259259\n",
      "\n",
      "RandomForestRegressor(max_depth=8, min_samples_split=15): \n",
      "MSE_train:  15497335.845443936\n",
      "MSE_test:  20150943.92745614\n",
      "RMSE_train:  3936.665574498796\n",
      "RMSE_test:  4488.9802770179485\n",
      "R2_score_train:  0.8504230212012022\n",
      "R2_score_test:  0.8006980679006662\n",
      "\n",
      "XGBRegressor(base_score=0.5, booster='gbtree', callbacks=None,\n",
      "             colsample_bylevel=1, colsample_bynode=1, colsample_bytree=1,\n",
      "             early_stopping_rounds=None, enable_categorical=False,\n",
      "             eval_metric=None, gamma=0, gpu_id=-1, grow_policy='depthwise',\n",
      "             importance_type=None, interaction_constraints='',\n",
      "             learning_rate=0.300000012, max_bin=256, max_cat_to_onehot=4,\n",
      "             max_delta_step=0, max_depth=6, max_leaves=0, min_child_weight=1,\n",
      "             missing=nan, monotone_constraints='()', n_estimators=100, n_jobs=0,\n",
      "             num_parallel_tree=1, predictor='auto', random_state=0, reg_alpha=0,\n",
      "             reg_lambda=1, ...): \n",
      "MSE_train:  2574075.144226791\n",
      "MSE_test:  30740346.499878794\n",
      "RMSE_train:  1604.3924533064817\n",
      "RMSE_test:  5544.397758086878\n",
      "R2_score_train:  0.9751555759574175\n",
      "R2_score_test:  0.6959640961294531\n",
      "\n",
      "GradientBoostingRegressor(): \n",
      "MSE_train:  17210746.730435003\n",
      "MSE_test:  19514454.186292045\n",
      "RMSE_train:  4148.583701751118\n",
      "RMSE_test:  4417.516744313715\n",
      "R2_score_train:  0.83388554494245\n",
      "R2_score_test:  0.8069932387686953\n",
      "\n",
      "LGBMRegressor(): \n",
      "MSE_train:  12474296.086372754\n",
      "MSE_test:  22709865.69626709\n",
      "RMSE_train:  3531.896952966317\n",
      "RMSE_test:  4765.486931706674\n",
      "R2_score_train:  0.8796007559073549\n",
      "R2_score_test:  0.7753891764437165\n",
      "\n",
      "AdaBoostRegressor(): \n",
      "MSE_train:  26146481.20352956\n",
      "MSE_test:  24508647.434430595\n",
      "RMSE_train:  5113.363003301209\n",
      "RMSE_test:  4950.620914029936\n",
      "R2_score_train:  0.7476397424920441\n",
      "R2_score_test:  0.757598413036722\n",
      "\n",
      "SVR(kernel='linear'): \n",
      "MSE_train:  104996685.39497235\n",
      "MSE_test:  103657690.81184767\n",
      "RMSE_train:  10246.789028518757\n",
      "RMSE_test:  10181.242105551153\n",
      "R2_score_train:  -0.013405603511197572\n",
      "R2_score_test:  -0.025221355889337493\n",
      "\n",
      "SVR(): \n",
      "MSE_train:  113538127.05777517\n",
      "MSE_test:  111792371.83562885\n",
      "RMSE_train:  10655.42711756667\n",
      "RMSE_test:  10573.191185050464\n",
      "R2_score_train:  -0.09584577588984722\n",
      "R2_score_test:  -0.10567702341974905\n",
      "\n",
      "SVR(kernel='sigmoid'): \n",
      "MSE_train:  113006247.66218285\n",
      "MSE_test:  111296254.61659552\n",
      "RMSE_train:  10630.439673982579\n",
      "RMSE_test:  10549.704006112945\n",
      "R2_score_train:  -0.09071218945463944\n",
      "R2_score_test:  -0.10077020016337701\n",
      "\n",
      "SVR(kernel='poly'): \n",
      "MSE_train:  113327124.13058063\n",
      "MSE_test:  111581745.52219753\n",
      "RMSE_train:  10645.52131793369\n",
      "RMSE_test:  10563.226094437132\n",
      "R2_score_train:  -0.09380922065982444\n",
      "R2_score_test:  -0.10359383409775269\n",
      "\n"
     ]
    }
   ],
   "source": [
    "for i in range(13):\n",
    "    models[i].fit(X_train_scaled,y_train['charges'])\n",
    "    \n",
    "    print(f'{models[i]}: ')\n",
    "    y_pred_train=models[i].predict(X_train_scaled)\n",
    "    y_pred_test=models[i].predict(X_test_scaled)\n",
    "    \n",
    "    print('MSE_train: ',mean_squared_error(y_train['charges'],y_pred_train))\n",
    "    print('MSE_test: ',mean_squared_error(y_test['charges'],y_pred_test))\n",
    "    \n",
    "    print('RMSE_train: ',np.sqrt(mean_squared_error(y_train['charges'],y_pred_train)))\n",
    "    print('RMSE_test: ',np.sqrt(mean_squared_error(y_test['charges'],y_pred_test)))\n",
    "    \n",
    "    print('R2_score_train: ',r2_score(y_train['charges'],y_pred_train))\n",
    "    print('R2_score_test: ',r2_score(y_test['charges'],y_pred_test))\n",
    "    \n",
    "    print()"
   ]
  },
  {
   "cell_type": "markdown",
   "id": "bd4b6e0d",
   "metadata": {},
   "source": [
    "### Model Building with log_charges as target column"
   ]
  },
  {
   "cell_type": "code",
   "execution_count": 191,
   "id": "b753c6ed",
   "metadata": {},
   "outputs": [],
   "source": [
    "models=[LinearRegression(),SGDRegressor(),DecisionTreeRegressor(),RandomForestRegressor(),\n",
    "         RandomForestRegressor(n_estimators=100,min_samples_split=20,max_depth=8),\n",
    "        XGBRegressor(),GradientBoostingRegressor(),LGBMRegressor(),AdaBoostRegressor(),\n",
    "        SVR(kernel='linear'),SVR(kernel='rbf'),SVR(kernel='sigmoid'),SVR(kernel='poly'),\n",
    "       KNeighborsRegressor()]"
   ]
  },
  {
   "cell_type": "code",
   "execution_count": 192,
   "id": "21693318",
   "metadata": {},
   "outputs": [
    {
     "name": "stdout",
     "output_type": "stream",
     "text": [
      "LinearRegression(): \n",
      "MSE_train:  53936039.40230001\n",
      "MSE_test:  51444749.117994614\n",
      "RMSE_train:  7344.115971463142\n",
      "RMSE_test:  7172.4995028228905\n",
      "R2_score_train:  0.4794208564215413\n",
      "R2_score_test:  0.4911882077339407\n",
      "\n",
      "SGDRegressor(): \n",
      "MSE_train:  54149114.15849481\n",
      "MSE_test:  51486127.24276279\n",
      "RMSE_train:  7358.608167207628\n",
      "RMSE_test:  7175.383421306682\n",
      "R2_score_train:  0.47736430434008925\n",
      "R2_score_test:  0.4907789594008287\n",
      "\n",
      "DecisionTreeRegressor(): \n",
      "MSE_train:  1119252.966492373\n",
      "MSE_test:  49273184.262786984\n",
      "RMSE_train:  1057.947525396403\n",
      "RMSE_test:  7019.486039788596\n",
      "R2_score_train:  0.9891972091907179\n",
      "R2_score_test:  0.5126659644524334\n",
      "\n",
      "RandomForestRegressor(): \n",
      "MSE_train:  6465945.556869497\n",
      "MSE_test:  22292668.22323927\n",
      "RMSE_train:  2542.8223604627783\n",
      "RMSE_test:  4721.5112223989545\n",
      "R2_score_train:  0.9375920731718295\n",
      "R2_score_test:  0.7795154477856815\n",
      "\n",
      "RandomForestRegressor(max_depth=8, min_samples_split=20): \n",
      "MSE_train:  18226820.43906525\n",
      "MSE_test:  19194330.8504373\n",
      "RMSE_train:  4269.288048265806\n",
      "RMSE_test:  4381.133512053393\n",
      "R2_score_train:  0.8240786183139299\n",
      "R2_score_test:  0.8101594030722445\n",
      "\n",
      "XGBRegressor(base_score=0.5, booster='gbtree', callbacks=None,\n",
      "             colsample_bylevel=1, colsample_bynode=1, colsample_bytree=1,\n",
      "             early_stopping_rounds=None, enable_categorical=False,\n",
      "             eval_metric=None, gamma=0, gpu_id=-1, grow_policy='depthwise',\n",
      "             importance_type=None, interaction_constraints='',\n",
      "             learning_rate=0.300000012, max_bin=256, max_cat_to_onehot=4,\n",
      "             max_delta_step=0, max_depth=6, max_leaves=0, min_child_weight=1,\n",
      "             missing=nan, monotone_constraints='()', n_estimators=100, n_jobs=0,\n",
      "             num_parallel_tree=1, predictor='auto', random_state=0, reg_alpha=0,\n",
      "             reg_lambda=1, ...): \n",
      "MSE_train:  5008444.7591862865\n",
      "MSE_test:  44445921.83191329\n",
      "RMSE_train:  2237.9554864175216\n",
      "RMSE_test:  6666.77746980603\n",
      "R2_score_train:  0.9516595598733185\n",
      "R2_score_test:  0.5604097690447727\n",
      "\n",
      "GradientBoostingRegressor(): \n",
      "MSE_train:  19653692.194259506\n",
      "MSE_test:  22015592.64802785\n",
      "RMSE_train:  4433.248492275106\n",
      "RMSE_test:  4692.077647271819\n",
      "R2_score_train:  0.8103067565949984\n",
      "R2_score_test:  0.7822558503035968\n",
      "\n",
      "LGBMRegressor(): \n",
      "MSE_train:  15176230.967184206\n",
      "MSE_test:  22276285.45889937\n",
      "RMSE_train:  3895.6682311490804\n",
      "RMSE_test:  4719.775996686641\n",
      "R2_score_train:  0.8535222569696369\n",
      "R2_score_test:  0.7796774807206063\n",
      "\n",
      "AdaBoostRegressor(): \n",
      "MSE_train:  21458355.404543214\n",
      "MSE_test:  19283534.59832504\n",
      "RMSE_train:  4632.316418871148\n",
      "RMSE_test:  4391.302152929702\n",
      "R2_score_train:  0.7928885323637067\n",
      "R2_score_test:  0.809277137736758\n",
      "\n",
      "SVR(kernel='linear'): \n",
      "MSE_train:  53825672.66238385\n",
      "MSE_test:  51772381.71176041\n",
      "RMSE_train:  7336.598166887965\n",
      "RMSE_test:  7195.302753307911\n",
      "R2_score_train:  0.4804860926454426\n",
      "R2_score_test:  0.48794777347977814\n",
      "\n",
      "SVR(): \n",
      "MSE_train:  23282464.66363132\n",
      "MSE_test:  23721912.685968168\n",
      "RMSE_train:  4825.190634952294\n",
      "RMSE_test:  4870.51462229282\n",
      "R2_score_train:  0.7752826190187025\n",
      "R2_score_test:  0.7653795748514103\n",
      "\n",
      "SVR(kernel='sigmoid'): \n",
      "MSE_train:  1903404556661495.8\n",
      "MSE_test:  1327744074584998.2\n",
      "RMSE_train:  43628024.899845004\n",
      "RMSE_test:  36438222.71441073\n",
      "R2_score_train:  -18371253.637357064\n",
      "R2_score_test:  -13131987.275630023\n",
      "\n",
      "SVR(kernel='poly'): \n",
      "MSE_train:  24187874.813623402\n",
      "MSE_test:  24576382.29491312\n",
      "RMSE_train:  4918.116998773352\n",
      "RMSE_test:  4957.4572408557515\n",
      "R2_score_train:  0.7665437934450543\n",
      "R2_score_test:  0.7569284846892836\n",
      "\n"
     ]
    }
   ],
   "source": [
    " for i in range(13):\n",
    "    models[i].fit(X_train_scaled,y_train['log_charges'])\n",
    "    \n",
    "    print(f'{models[i]}: ')\n",
    "    y_pred_train=models[i].predict(X_train_scaled)\n",
    "    y_pred_exp_train=np.exp(y_pred_train)\n",
    "    y_pred_test=models[i].predict(X_test_scaled)\n",
    "    y_pred_exp_test=np.exp(y_pred_test)\n",
    "    \n",
    "    print('MSE_train: ',mean_squared_error(y_train['charges'],y_pred_exp_train))\n",
    "    print('MSE_test: ',mean_squared_error(y_test['charges'],y_pred_exp_test))\n",
    "    \n",
    "    print('RMSE_train: ',np.sqrt(mean_squared_error(y_train['charges'],y_pred_exp_train)))\n",
    "    print('RMSE_test: ',np.sqrt(mean_squared_error(y_test['charges'],y_pred_exp_test)))\n",
    "    \n",
    "    print('R2_score_train: ',r2_score(y_train['charges'],y_pred_exp_train))\n",
    "    print('R2_score_test: ',r2_score(y_test['charges'],y_pred_exp_test))\n",
    "    \n",
    "    print()"
   ]
  },
  {
   "cell_type": "raw",
   "id": "4cdbf6ff",
   "metadata": {},
   "source": [
    "We can see that GridSearchCV(RF model) has highest performs better if we take log_charges as our target variable and GradientBoosting Model performs better if we take charges as our target variable."
   ]
  }
 ],
 "metadata": {
  "kernelspec": {
   "display_name": "Python 3 (ipykernel)",
   "language": "python",
   "name": "python3"
  },
  "language_info": {
   "codemirror_mode": {
    "name": "ipython",
    "version": 3
   },
   "file_extension": ".py",
   "mimetype": "text/x-python",
   "name": "python",
   "nbconvert_exporter": "python",
   "pygments_lexer": "ipython3",
   "version": "3.9.12"
  }
 },
 "nbformat": 4,
 "nbformat_minor": 5
}
